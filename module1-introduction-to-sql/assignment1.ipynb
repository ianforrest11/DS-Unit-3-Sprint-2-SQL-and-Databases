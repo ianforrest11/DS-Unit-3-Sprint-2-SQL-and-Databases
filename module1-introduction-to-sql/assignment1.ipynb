{
 "cells": [
  {
   "cell_type": "code",
   "execution_count": 1,
   "metadata": {},
   "outputs": [],
   "source": [
    "# imports\n",
    "import sqlite3\n",
    "import pandas as pd"
   ]
  },
  {
   "cell_type": "code",
   "execution_count": null,
   "metadata": {},
   "outputs": [],
   "source": [
    "# create function to create SQL connection to database\n",
    "def create_connection(db_file, verbose=False):\n",
    "    conn = None\n",
    "    try:\n",
    "        conn = sqlite3.connect(db_file)\n",
    "        if verbose:\n",
    "            print(f'Using SQLite version: {sqlite3.version}')\n",
    "            print(f'Creating Connection to {db_file}...')\n",
    "        return conn\n",
    "    except sqlite3.Error as e:\n",
    "        print(e)"
   ]
  },
  {
   "cell_type": "code",
   "execution_count": 2,
   "metadata": {},
   "outputs": [],
   "source": [
    "# create function to query a database\n",
    "def select_all_query(db_file, query, verbose=False):\n",
    "\n",
    "    conn = create_connection(db_file, verbose)\n",
    "    cur = conn.cursor()\n",
    "    if not query.startswith('SELECT'):\n",
    "        raise ValueError('Query should begin with `SELECT`')\n",
    "    \n",
    "    cur.execute(query)\n",
    "    rows = cur.fetchall()\n",
    "\n",
    "    if verbose:\n",
    "        for row in rows:\n",
    "            print(row)\n",
    "\n",
    "    return rows"
   ]
  },
  {
   "cell_type": "code",
   "execution_count": 7,
   "metadata": {},
   "outputs": [
    {
     "name": "stdout",
     "output_type": "stream",
     "text": [
      "Total Characters: 302\n"
     ]
    }
   ],
   "source": [
    "# How many total Characters are there?\n",
    "tot_char = select_all_query('rpg_db.sqlite3', 'SELECT COUNT(*) FROM charactercreator_character')\n",
    "print('Total Characters:', tot_char[0][0])"
   ]
  },
  {
   "cell_type": "code",
   "execution_count": 26,
   "metadata": {},
   "outputs": [
    {
     "name": "stdout",
     "output_type": "stream",
     "text": [
      "Total Clerics: 75\n"
     ]
    }
   ],
   "source": [
    "# How many [characters] of each specific subclass?\n",
    "\n",
    "# Total clerics\n",
    "sub_char_cler = select_all_query('rpg_db.sqlite3',\n",
    "                                 'SELECT COUNT(*) FROM charactercreator_character as cc INNER JOIN \\\n",
    "                                 charactercreator_cleric as cleric on cc.character_id = cleric.character_ptr_id')\n",
    "print('Total Clerics:', sub_char_cler[0][0])"
   ]
  },
  {
   "cell_type": "code",
   "execution_count": 27,
   "metadata": {},
   "outputs": [
    {
     "name": "stdout",
     "output_type": "stream",
     "text": [
      "Total Fighters: 68\n"
     ]
    }
   ],
   "source": [
    "# Total fighters\n",
    "sub_char_fight = select_all_query('rpg_db.sqlite3',\n",
    "                                 'SELECT COUNT(*) FROM charactercreator_character as cc INNER JOIN \\\n",
    "                                 charactercreator_fighter as fighter on cc.character_id = fighter.character_ptr_id')\n",
    "print('Total Fighters:', sub_char_fight[0][0])"
   ]
  },
  {
   "cell_type": "code",
   "execution_count": 28,
   "metadata": {},
   "outputs": [
    {
     "name": "stdout",
     "output_type": "stream",
     "text": [
      "Total Mages (includes Necromancers): 108\n"
     ]
    }
   ],
   "source": [
    "# Total mages (including necromancers)\n",
    "sub_char_mage = select_all_query('rpg_db.sqlite3',\n",
    "                                 'SELECT COUNT(*) FROM charactercreator_character as cc INNER JOIN \\\n",
    "                                 charactercreator_mage as mage on cc.character_id = mage.character_ptr_id')\n",
    "print('Total Mages (includes Necromancers):', sub_char_mage[0][0])"
   ]
  },
  {
   "cell_type": "code",
   "execution_count": 29,
   "metadata": {},
   "outputs": [
    {
     "name": "stdout",
     "output_type": "stream",
     "text": [
      "Total Thieves: 51\n"
     ]
    }
   ],
   "source": [
    "# Total thieves\n",
    "sub_char_thief = select_all_query('rpg_db.sqlite3',\n",
    "                                 'SELECT COUNT(*) FROM charactercreator_character as cc INNER JOIN \\\n",
    "                                 charactercreator_thief as thief on cc.character_id = thief.character_ptr_id')\n",
    "print('Total Thieves:', sub_char_thief[0][0])"
   ]
  },
  {
   "cell_type": "code",
   "execution_count": 30,
   "metadata": {},
   "outputs": [
    {
     "name": "stdout",
     "output_type": "stream",
     "text": [
      "Total Items: 174\n"
     ]
    }
   ],
   "source": [
    "# How many total Items?\n",
    "tot_items = select_all_query('rpg_db.sqlite3', \n",
    "                             'SELECT COUNT(*) FROM armory_item')\n",
    "print('Total Items:', tot_items[0][0])"
   ]
  },
  {
   "cell_type": "code",
   "execution_count": 33,
   "metadata": {},
   "outputs": [
    {
     "name": "stdout",
     "output_type": "stream",
     "text": [
      "Total Weapons: 37\n",
      "Total Non-Weapons: 137\n"
     ]
    }
   ],
   "source": [
    "# How many of the Items are weapons? How many are not?\n",
    "\n",
    "# Total weapons\n",
    "tot_weapons = select_all_query('rpg_db.sqlite3', \n",
    "                             'SELECT COUNT(*) FROM armory_item as item INNER JOIN armory_weapon \\\n",
    "                              as weapon on item.item_id = weapon.item_ptr_id')\n",
    "print('Total Weapons:', tot_weapons[0][0])\n",
    "\n",
    "# Total non-weapons\n",
    "tot_non_weapons = select_all_query('rpg_db.sqlite3', 'SELECT (SELECT COUNT(*) FROM armory_item) - \\\n",
    "                                  (SELECT COUNT(*) FROM armory_item as item INNER JOIN armory_weapon as weapon on item.item_id = weapon.item_ptr_id)')\n",
    "print('Total Non-Weapons:', tot_non_weapons[0][0])"
   ]
  },
  {
   "cell_type": "code",
   "execution_count": 62,
   "metadata": {},
   "outputs": [
    {
     "data": {
      "text/html": [
       "<div>\n",
       "<style scoped>\n",
       "    .dataframe tbody tr th:only-of-type {\n",
       "        vertical-align: middle;\n",
       "    }\n",
       "\n",
       "    .dataframe tbody tr th {\n",
       "        vertical-align: top;\n",
       "    }\n",
       "\n",
       "    .dataframe thead th {\n",
       "        text-align: right;\n",
       "    }\n",
       "</style>\n",
       "<table border=\"1\" class=\"dataframe\">\n",
       "  <thead>\n",
       "    <tr style=\"text-align: right;\">\n",
       "      <th></th>\n",
       "      <th>Character Id</th>\n",
       "      <th>Item Count</th>\n",
       "    </tr>\n",
       "  </thead>\n",
       "  <tbody>\n",
       "    <tr>\n",
       "      <th>0</th>\n",
       "      <td>1</td>\n",
       "      <td>3</td>\n",
       "    </tr>\n",
       "    <tr>\n",
       "      <th>1</th>\n",
       "      <td>2</td>\n",
       "      <td>3</td>\n",
       "    </tr>\n",
       "    <tr>\n",
       "      <th>2</th>\n",
       "      <td>3</td>\n",
       "      <td>2</td>\n",
       "    </tr>\n",
       "    <tr>\n",
       "      <th>3</th>\n",
       "      <td>4</td>\n",
       "      <td>4</td>\n",
       "    </tr>\n",
       "    <tr>\n",
       "      <th>4</th>\n",
       "      <td>5</td>\n",
       "      <td>4</td>\n",
       "    </tr>\n",
       "  </tbody>\n",
       "</table>\n",
       "</div>"
      ],
      "text/plain": [
       "   Character Id  Item Count\n",
       "0             1           3\n",
       "1             2           3\n",
       "2             3           2\n",
       "3             4           4\n",
       "4             5           4"
      ]
     },
     "execution_count": 62,
     "metadata": {},
     "output_type": "execute_result"
    }
   ],
   "source": [
    "# How many Items does each character have? (Return first 20 rows)\n",
    "\n",
    "# create query to pull 20 characters with their corresponding item count from database\n",
    "query = '''SELECT character_id as `Character Id`, COUNT(item_id) as `Item Count` \n",
    "FROM charactercreator_character_inventory \n",
    "GROUP BY character_id LIMIT 20;'''\n",
    "\n",
    "# create conn variable to access database\n",
    "conn = create_connection('rpg_db.sqlite3')\n",
    "\n",
    "# create dataframe using pandas read_sql functionality\n",
    "df = pd.read_sql(query, conn)\n",
    "df.head()"
   ]
  },
  {
   "cell_type": "code",
   "execution_count": 63,
   "metadata": {},
   "outputs": [
    {
     "data": {
      "text/html": [
       "<div>\n",
       "<style scoped>\n",
       "    .dataframe tbody tr th:only-of-type {\n",
       "        vertical-align: middle;\n",
       "    }\n",
       "\n",
       "    .dataframe tbody tr th {\n",
       "        vertical-align: top;\n",
       "    }\n",
       "\n",
       "    .dataframe thead th {\n",
       "        text-align: right;\n",
       "    }\n",
       "</style>\n",
       "<table border=\"1\" class=\"dataframe\">\n",
       "  <thead>\n",
       "    <tr style=\"text-align: right;\">\n",
       "      <th></th>\n",
       "      <th>Character Id</th>\n",
       "      <th>Weapon Count</th>\n",
       "    </tr>\n",
       "  </thead>\n",
       "  <tbody>\n",
       "    <tr>\n",
       "      <th>0</th>\n",
       "      <td>5</td>\n",
       "      <td>2</td>\n",
       "    </tr>\n",
       "    <tr>\n",
       "      <th>1</th>\n",
       "      <td>7</td>\n",
       "      <td>1</td>\n",
       "    </tr>\n",
       "    <tr>\n",
       "      <th>2</th>\n",
       "      <td>11</td>\n",
       "      <td>1</td>\n",
       "    </tr>\n",
       "    <tr>\n",
       "      <th>3</th>\n",
       "      <td>20</td>\n",
       "      <td>1</td>\n",
       "    </tr>\n",
       "    <tr>\n",
       "      <th>4</th>\n",
       "      <td>22</td>\n",
       "      <td>1</td>\n",
       "    </tr>\n",
       "  </tbody>\n",
       "</table>\n",
       "</div>"
      ],
      "text/plain": [
       "   Character Id  Weapon Count\n",
       "0             5             2\n",
       "1             7             1\n",
       "2            11             1\n",
       "3            20             1\n",
       "4            22             1"
      ]
     },
     "execution_count": 63,
     "metadata": {},
     "output_type": "execute_result"
    }
   ],
   "source": [
    "# How many Weapons does each character have? (Return first 20 rows)\n",
    "\n",
    "# create query to pull 20 characters with their corresponding item count from database\n",
    "query = '''SELECT cci.character_id as `Character Id`, COUNT(aw.item_ptr_id) as `Weapon Count`\n",
    "FROM charactercreator_character_inventory as cci\n",
    "INNER JOIN armory_item as ai ON cci.item_id = ai.item_id\n",
    "INNER JOIN armory_weapon as aw ON ai.item_id = aw.item_ptr_id\n",
    "GROUP BY cci.character_id\n",
    "LIMIT 20;'''\n",
    "\n",
    "# create conn variable to access database\n",
    "conn = create_connection('rpg_db.sqlite3')\n",
    "\n",
    "# create dataframe using pandas read_sql functionality\n",
    "df = pd.read_sql(query, conn)\n",
    "df.head()"
   ]
  },
  {
   "cell_type": "code",
   "execution_count": 64,
   "metadata": {},
   "outputs": [
    {
     "data": {
      "text/html": [
       "<div>\n",
       "<style scoped>\n",
       "    .dataframe tbody tr th:only-of-type {\n",
       "        vertical-align: middle;\n",
       "    }\n",
       "\n",
       "    .dataframe tbody tr th {\n",
       "        vertical-align: top;\n",
       "    }\n",
       "\n",
       "    .dataframe thead th {\n",
       "        text-align: right;\n",
       "    }\n",
       "</style>\n",
       "<table border=\"1\" class=\"dataframe\">\n",
       "  <thead>\n",
       "    <tr style=\"text-align: right;\">\n",
       "      <th></th>\n",
       "      <th>AVG(c)</th>\n",
       "    </tr>\n",
       "  </thead>\n",
       "  <tbody>\n",
       "    <tr>\n",
       "      <th>0</th>\n",
       "      <td>2.97351</td>\n",
       "    </tr>\n",
       "  </tbody>\n",
       "</table>\n",
       "</div>"
      ],
      "text/plain": [
       "    AVG(c)\n",
       "0  2.97351"
      ]
     },
     "execution_count": 64,
     "metadata": {},
     "output_type": "execute_result"
    }
   ],
   "source": [
    "# On average, how many Items does each Character have?\n",
    "\n",
    "# create query to find average items per character\n",
    "query = '''SELECT AVG(c)\n",
    "FROM(\n",
    "SELECT character_id, COUNT(item_id) as c\n",
    "FROM charactercreator_character_inventory\n",
    "GROUP BY character_id\n",
    ")\n",
    "'''\n",
    "\n",
    "# connect to db\n",
    "conn = create_connection('rpg_db.sqlite3')\n",
    "\n",
    "# create dataframe\n",
    "df = pd.read_sql(query, conn)\n",
    "df"
   ]
  },
  {
   "cell_type": "code",
   "execution_count": 70,
   "metadata": {},
   "outputs": [
    {
     "data": {
      "text/html": [
       "<div>\n",
       "<style scoped>\n",
       "    .dataframe tbody tr th:only-of-type {\n",
       "        vertical-align: middle;\n",
       "    }\n",
       "\n",
       "    .dataframe tbody tr th {\n",
       "        vertical-align: top;\n",
       "    }\n",
       "\n",
       "    .dataframe thead th {\n",
       "        text-align: right;\n",
       "    }\n",
       "</style>\n",
       "<table border=\"1\" class=\"dataframe\">\n",
       "  <thead>\n",
       "    <tr style=\"text-align: right;\">\n",
       "      <th></th>\n",
       "      <th>AVG(wc)</th>\n",
       "    </tr>\n",
       "  </thead>\n",
       "  <tbody>\n",
       "    <tr>\n",
       "      <th>0</th>\n",
       "      <td>0.672185</td>\n",
       "    </tr>\n",
       "  </tbody>\n",
       "</table>\n",
       "</div>"
      ],
      "text/plain": [
       "    AVG(wc)\n",
       "0  0.672185"
      ]
     },
     "execution_count": 70,
     "metadata": {},
     "output_type": "execute_result"
    }
   ],
   "source": [
    "# On average, how many Weapons does each character have?\n",
    "\n",
    "# create query to find average weapons per character\n",
    "query = '''SELECT AVG(wc)\n",
    "FROM (SELECT cci.character_id as `Character Id`, COUNT(aw.item_ptr_id) as wc\n",
    "FROM charactercreator_character_inventory as cci\n",
    "INNER JOIN armory_item as ai ON cci.item_id = ai.item_id\n",
    "LEFT JOIN armory_weapon as aw ON ai.item_id = aw.item_ptr_id\n",
    "GROUP BY cci.character_id)\n",
    "'''\n",
    "\n",
    "# connect to db\n",
    "conn = create_connection('rpg_db.sqlite3')\n",
    "\n",
    "# create db\n",
    "df = pd.read_sql(query, conn)\n",
    "\n",
    "\n",
    "df"
   ]
  },
  {
   "cell_type": "code",
   "execution_count": 71,
   "metadata": {},
   "outputs": [
    {
     "name": "stderr",
     "output_type": "stream",
     "text": [
      "/Applications/anaconda3/lib/python3.7/site-packages/pandas/core/generic.py:2531: UserWarning: The spaces in these column names will not be changed. In pandas versions < 0.14, spaces were converted to underscores.\n",
      "  dtype=dtype, method=method)\n"
     ]
    },
    {
     "data": {
      "text/html": [
       "<div>\n",
       "<style scoped>\n",
       "    .dataframe tbody tr th:only-of-type {\n",
       "        vertical-align: middle;\n",
       "    }\n",
       "\n",
       "    .dataframe tbody tr th {\n",
       "        vertical-align: top;\n",
       "    }\n",
       "\n",
       "    .dataframe thead th {\n",
       "        text-align: right;\n",
       "    }\n",
       "</style>\n",
       "<table border=\"1\" class=\"dataframe\">\n",
       "  <thead>\n",
       "    <tr style=\"text-align: right;\">\n",
       "      <th></th>\n",
       "      <th>User Id</th>\n",
       "      <th>Sports</th>\n",
       "      <th>Religious</th>\n",
       "      <th>Nature</th>\n",
       "      <th>Theatre</th>\n",
       "      <th>Shopping</th>\n",
       "      <th>Picnic</th>\n",
       "    </tr>\n",
       "  </thead>\n",
       "  <tbody>\n",
       "    <tr>\n",
       "      <th>0</th>\n",
       "      <td>User 1</td>\n",
       "      <td>2</td>\n",
       "      <td>77</td>\n",
       "      <td>79</td>\n",
       "      <td>69</td>\n",
       "      <td>68</td>\n",
       "      <td>95</td>\n",
       "    </tr>\n",
       "    <tr>\n",
       "      <th>1</th>\n",
       "      <td>User 2</td>\n",
       "      <td>2</td>\n",
       "      <td>62</td>\n",
       "      <td>76</td>\n",
       "      <td>76</td>\n",
       "      <td>69</td>\n",
       "      <td>68</td>\n",
       "    </tr>\n",
       "    <tr>\n",
       "      <th>2</th>\n",
       "      <td>User 3</td>\n",
       "      <td>2</td>\n",
       "      <td>50</td>\n",
       "      <td>97</td>\n",
       "      <td>87</td>\n",
       "      <td>50</td>\n",
       "      <td>75</td>\n",
       "    </tr>\n",
       "    <tr>\n",
       "      <th>3</th>\n",
       "      <td>User 4</td>\n",
       "      <td>2</td>\n",
       "      <td>68</td>\n",
       "      <td>77</td>\n",
       "      <td>95</td>\n",
       "      <td>76</td>\n",
       "      <td>61</td>\n",
       "    </tr>\n",
       "    <tr>\n",
       "      <th>4</th>\n",
       "      <td>User 5</td>\n",
       "      <td>2</td>\n",
       "      <td>98</td>\n",
       "      <td>54</td>\n",
       "      <td>59</td>\n",
       "      <td>95</td>\n",
       "      <td>86</td>\n",
       "    </tr>\n",
       "  </tbody>\n",
       "</table>\n",
       "</div>"
      ],
      "text/plain": [
       "  User Id  Sports  Religious  Nature  Theatre  Shopping  Picnic\n",
       "0  User 1       2         77      79       69        68      95\n",
       "1  User 2       2         62      76       76        69      68\n",
       "2  User 3       2         50      97       87        50      75\n",
       "3  User 4       2         68      77       95        76      61\n",
       "4  User 5       2         98      54       59        95      86"
      ]
     },
     "execution_count": 71,
     "metadata": {},
     "output_type": "execute_result"
    }
   ],
   "source": [
    "# Create database file if it doesn't exist\n",
    "with sqlite3.connect('buddymove_holidayiq.sqlite3') as conn:\n",
    "    \n",
    "    # 1. Read csv file\n",
    "    df = pd.read_csv('buddymove_holidayiq.csv')\n",
    "    \n",
    "    # 2. DROP TABLE review IF EXISTS\n",
    "    drop_query = 'DROP TABLE IF EXISTS review'\n",
    "    conn.cursor().execute(drop_query)\n",
    "    \n",
    "    # 3. INSERT TABLE review\n",
    "    df.to_sql('review', conn, index=False)\n",
    "    query = 'SELECT * FROM review'\n",
    "    df = pd.read_sql(query, conn)\n",
    "df.head()"
   ]
  },
  {
   "cell_type": "code",
   "execution_count": 72,
   "metadata": {},
   "outputs": [
    {
     "data": {
      "text/plain": [
       "(249, 7)"
      ]
     },
     "execution_count": 72,
     "metadata": {},
     "output_type": "execute_result"
    }
   ],
   "source": [
    "# Count how many rows you have - it should be 249!\n",
    "df.shape"
   ]
  },
  {
   "cell_type": "code",
   "execution_count": 75,
   "metadata": {},
   "outputs": [
    {
     "data": {
      "text/html": [
       "<div>\n",
       "<style scoped>\n",
       "    .dataframe tbody tr th:only-of-type {\n",
       "        vertical-align: middle;\n",
       "    }\n",
       "\n",
       "    .dataframe tbody tr th {\n",
       "        vertical-align: top;\n",
       "    }\n",
       "\n",
       "    .dataframe thead th {\n",
       "        text-align: right;\n",
       "    }\n",
       "</style>\n",
       "<table border=\"1\" class=\"dataframe\">\n",
       "  <thead>\n",
       "    <tr style=\"text-align: right;\">\n",
       "      <th></th>\n",
       "      <th>Sports</th>\n",
       "      <th>Religious</th>\n",
       "      <th>Nature</th>\n",
       "      <th>Theatre</th>\n",
       "      <th>Shopping</th>\n",
       "      <th>Picnic</th>\n",
       "    </tr>\n",
       "  </thead>\n",
       "  <tbody>\n",
       "    <tr>\n",
       "      <th>count</th>\n",
       "      <td>78.000000</td>\n",
       "      <td>78.000000</td>\n",
       "      <td>78.000000</td>\n",
       "      <td>78.000000</td>\n",
       "      <td>78.000000</td>\n",
       "      <td>78.000000</td>\n",
       "    </tr>\n",
       "    <tr>\n",
       "      <th>mean</th>\n",
       "      <td>16.794872</td>\n",
       "      <td>121.974359</td>\n",
       "      <td>147.871795</td>\n",
       "      <td>136.705128</td>\n",
       "      <td>132.871795</td>\n",
       "      <td>137.410256</td>\n",
       "    </tr>\n",
       "    <tr>\n",
       "      <th>std</th>\n",
       "      <td>5.262854</td>\n",
       "      <td>23.325464</td>\n",
       "      <td>30.712897</td>\n",
       "      <td>30.230761</td>\n",
       "      <td>22.220477</td>\n",
       "      <td>32.051677</td>\n",
       "    </tr>\n",
       "    <tr>\n",
       "      <th>min</th>\n",
       "      <td>4.000000</td>\n",
       "      <td>79.000000</td>\n",
       "      <td>103.000000</td>\n",
       "      <td>68.000000</td>\n",
       "      <td>103.000000</td>\n",
       "      <td>79.000000</td>\n",
       "    </tr>\n",
       "    <tr>\n",
       "      <th>25%</th>\n",
       "      <td>12.000000</td>\n",
       "      <td>104.250000</td>\n",
       "      <td>124.000000</td>\n",
       "      <td>114.000000</td>\n",
       "      <td>116.500000</td>\n",
       "      <td>119.250000</td>\n",
       "    </tr>\n",
       "    <tr>\n",
       "      <th>50%</th>\n",
       "      <td>18.000000</td>\n",
       "      <td>123.000000</td>\n",
       "      <td>144.000000</td>\n",
       "      <td>131.000000</td>\n",
       "      <td>129.000000</td>\n",
       "      <td>136.000000</td>\n",
       "    </tr>\n",
       "    <tr>\n",
       "      <th>75%</th>\n",
       "      <td>22.000000</td>\n",
       "      <td>138.750000</td>\n",
       "      <td>163.000000</td>\n",
       "      <td>157.750000</td>\n",
       "      <td>147.000000</td>\n",
       "      <td>153.000000</td>\n",
       "    </tr>\n",
       "    <tr>\n",
       "      <th>max</th>\n",
       "      <td>25.000000</td>\n",
       "      <td>188.000000</td>\n",
       "      <td>247.000000</td>\n",
       "      <td>213.000000</td>\n",
       "      <td>203.000000</td>\n",
       "      <td>218.000000</td>\n",
       "    </tr>\n",
       "  </tbody>\n",
       "</table>\n",
       "</div>"
      ],
      "text/plain": [
       "          Sports   Religious      Nature     Theatre    Shopping      Picnic\n",
       "count  78.000000   78.000000   78.000000   78.000000   78.000000   78.000000\n",
       "mean   16.794872  121.974359  147.871795  136.705128  132.871795  137.410256\n",
       "std     5.262854   23.325464   30.712897   30.230761   22.220477   32.051677\n",
       "min     4.000000   79.000000  103.000000   68.000000  103.000000   79.000000\n",
       "25%    12.000000  104.250000  124.000000  114.000000  116.500000  119.250000\n",
       "50%    18.000000  123.000000  144.000000  131.000000  129.000000  136.000000\n",
       "75%    22.000000  138.750000  163.000000  157.750000  147.000000  153.000000\n",
       "max    25.000000  188.000000  247.000000  213.000000  203.000000  218.000000"
      ]
     },
     "execution_count": 75,
     "metadata": {},
     "output_type": "execute_result"
    }
   ],
   "source": [
    "# How many users who reviewed at least 100 `Nature` in the category also\n",
    "# reviewed at least 100 in the `Shopping` category? - 78\n",
    "\n",
    "# query\n",
    "query = '''SELECT *\n",
    "FROM review\n",
    "WHERE `Nature` >= 100 AND `Shopping` >= 100\n",
    "'''\n",
    "\n",
    "# connect\n",
    "conn = create_connection('buddymove_holidayiq.sqlite3')\n",
    "\n",
    "# create dataframe, run df.describe() to obtain count\n",
    "df = pd.read_sql(query, conn)\n",
    "df.describe()"
   ]
  }
 ],
 "metadata": {
  "kernelspec": {
   "display_name": "Python 3",
   "language": "python",
   "name": "python3"
  },
  "language_info": {
   "codemirror_mode": {
    "name": "ipython",
    "version": 3
   },
   "file_extension": ".py",
   "mimetype": "text/x-python",
   "name": "python",
   "nbconvert_exporter": "python",
   "pygments_lexer": "ipython3",
   "version": "3.7.3"
  }
 },
 "nbformat": 4,
 "nbformat_minor": 2
}

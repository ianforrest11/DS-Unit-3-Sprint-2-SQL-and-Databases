{
 "cells": [
  {
   "cell_type": "code",
   "execution_count": 22,
   "metadata": {},
   "outputs": [],
   "source": [
    "import psycopg2\n",
    "import wget\n",
    "import pandas as pd\n",
    "import sqlite3"
   ]
  },
  {
   "cell_type": "code",
   "execution_count": 23,
   "metadata": {},
   "outputs": [],
   "source": [
    "# define user, dbname, password, and host (from ElephantSQL)\n",
    "\n",
    "dbname = 'ceforqty'\n",
    "\n",
    "user = 'ceforqty'\n",
    "\n",
    "password = 'GYh0O6sCjsdPPgZXg4DRYzL3Y9LDC5gl'\n",
    "\n",
    "host = 'salt.db.elephantsql.com'"
   ]
  },
  {
   "cell_type": "code",
   "execution_count": 24,
   "metadata": {},
   "outputs": [],
   "source": [
    "# establish connection to elephantsql\n",
    "pg_conn = psycopg2.connect(dbname=dbname, user=user,\n",
    "                           password=password, host=host)"
   ]
  },
  {
   "cell_type": "code",
   "execution_count": 25,
   "metadata": {},
   "outputs": [],
   "source": [
    "# create cursor\n",
    "pg_curs = pg_conn.cursor()"
   ]
  },
  {
   "cell_type": "code",
   "execution_count": 26,
   "metadata": {},
   "outputs": [],
   "source": [
    "# establish connection for demo file\n",
    "demo_conn = sqlite3.connect('demo_data.sqlite3')"
   ]
  },
  {
   "cell_type": "code",
   "execution_count": 27,
   "metadata": {},
   "outputs": [],
   "source": [
    "# create cursor\n",
    "demo_curs = demo_conn.cursor()"
   ]
  },
  {
   "cell_type": "code",
   "execution_count": 28,
   "metadata": {},
   "outputs": [],
   "source": [
    "# create table\n",
    "create_demo_table = \"\"\"\n",
    "  CREATE TABLE demo (\n",
    "    s VARCHAR,\n",
    "    x INT,\n",
    "    y INT\n",
    "  );\n",
    "\"\"\""
   ]
  },
  {
   "cell_type": "code",
   "execution_count": 29,
   "metadata": {},
   "outputs": [],
   "source": [
    "# execute creation of table\n",
    "pg_curs.execute(create_demo_table)"
   ]
  },
  {
   "cell_type": "code",
   "execution_count": 30,
   "metadata": {},
   "outputs": [],
   "source": [
    "data = [(0, 'g', 3, 9), (1, 'v', 5, 7), (2, 'f', 8, 7)]"
   ]
  },
  {
   "cell_type": "code",
   "execution_count": 31,
   "metadata": {},
   "outputs": [
    {
     "ename": "UndefinedColumn",
     "evalue": "column \"g\" does not exist\nLINE 1: INSERT INTO demo VALUES (g,3,9);\n                                 ^\n",
     "output_type": "error",
     "traceback": [
      "\u001b[0;31m---------------------------------------------------------------------------\u001b[0m",
      "\u001b[0;31mUndefinedColumn\u001b[0m                           Traceback (most recent call last)",
      "\u001b[0;32m<ipython-input-31-e60ee82d8152>\u001b[0m in \u001b[0;36m<module>\u001b[0;34m\u001b[0m\n\u001b[0;32m----> 1\u001b[0;31m \u001b[0mpg_curs\u001b[0m\u001b[0;34m.\u001b[0m\u001b[0mexecute\u001b[0m\u001b[0;34m(\u001b[0m\u001b[0;34m'INSERT INTO demo VALUES (g,3,9);'\u001b[0m\u001b[0;34m)\u001b[0m\u001b[0;34m\u001b[0m\u001b[0;34m\u001b[0m\u001b[0m\n\u001b[0m",
      "\u001b[0;31mUndefinedColumn\u001b[0m: column \"g\" does not exist\nLINE 1: INSERT INTO demo VALUES (g,3,9);\n                                 ^\n"
     ]
    }
   ],
   "source": [
    "pg_curs.execute('INSERT INTO demo VALUES (g,3,9);')"
   ]
  },
  {
   "cell_type": "code",
   "execution_count": null,
   "metadata": {},
   "outputs": [],
   "source": [
    "# How do we do this for all characters? Loops!\n",
    "for dat in data:\n",
    "  insert_dat = \"\"\"\n",
    "    INSERT INTO demo\n",
    "    (s, x, y)\n",
    "    VALUES \"\"\" + str(dat[1:]) + ';'\n",
    "# print(insert_person)\n",
    "  pg_curs.execute(insert_dat)"
   ]
  },
  {
   "cell_type": "code",
   "execution_count": null,
   "metadata": {},
   "outputs": [],
   "source": [
    "pg_curs.close()\n",
    "pg_conn.commit()"
   ]
  },
  {
   "cell_type": "code",
   "execution_count": null,
   "metadata": {},
   "outputs": [],
   "source": [
    "INSERT INTO demo (column1, column2, column3, ...)\n",
    "VALUES (value1, value2, value3, ...);"
   ]
  }
 ],
 "metadata": {
  "kernelspec": {
   "display_name": "Python 3",
   "language": "python",
   "name": "python3"
  },
  "language_info": {
   "codemirror_mode": {
    "name": "ipython",
    "version": 3
   },
   "file_extension": ".py",
   "mimetype": "text/x-python",
   "name": "python",
   "nbconvert_exporter": "python",
   "pygments_lexer": "ipython3",
   "version": "3.7.3"
  }
 },
 "nbformat": 4,
 "nbformat_minor": 2
}

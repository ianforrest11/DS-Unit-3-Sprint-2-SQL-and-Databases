{
 "cells": [
  {
   "cell_type": "code",
   "execution_count": 1,
   "metadata": {},
   "outputs": [],
   "source": [
    "# imports\n",
    "import sqlite3\n",
    "import pandas as pd\n",
    "import psycopg2"
   ]
  },
  {
   "cell_type": "code",
   "execution_count": 2,
   "metadata": {},
   "outputs": [
    {
     "data": {
      "text/html": [
       "<div>\n",
       "<style scoped>\n",
       "    .dataframe tbody tr th:only-of-type {\n",
       "        vertical-align: middle;\n",
       "    }\n",
       "\n",
       "    .dataframe tbody tr th {\n",
       "        vertical-align: top;\n",
       "    }\n",
       "\n",
       "    .dataframe thead th {\n",
       "        text-align: right;\n",
       "    }\n",
       "</style>\n",
       "<table border=\"1\" class=\"dataframe\">\n",
       "  <thead>\n",
       "    <tr style=\"text-align: right;\">\n",
       "      <th></th>\n",
       "      <th>survived</th>\n",
       "      <th>pclass</th>\n",
       "      <th>name</th>\n",
       "      <th>sex</th>\n",
       "      <th>age</th>\n",
       "      <th>sib_sp_aboard</th>\n",
       "      <th>par_ch_aboard</th>\n",
       "      <th>fare</th>\n",
       "    </tr>\n",
       "  </thead>\n",
       "  <tbody>\n",
       "    <tr>\n",
       "      <th>0</th>\n",
       "      <td>0</td>\n",
       "      <td>3</td>\n",
       "      <td>Mr. Owen Harris Braund</td>\n",
       "      <td>male</td>\n",
       "      <td>22.0</td>\n",
       "      <td>1</td>\n",
       "      <td>0</td>\n",
       "      <td>7.2500</td>\n",
       "    </tr>\n",
       "    <tr>\n",
       "      <th>1</th>\n",
       "      <td>1</td>\n",
       "      <td>1</td>\n",
       "      <td>Mrs. John Bradley (Florence Briggs Thayer) Cum...</td>\n",
       "      <td>female</td>\n",
       "      <td>38.0</td>\n",
       "      <td>1</td>\n",
       "      <td>0</td>\n",
       "      <td>71.2833</td>\n",
       "    </tr>\n",
       "    <tr>\n",
       "      <th>2</th>\n",
       "      <td>1</td>\n",
       "      <td>3</td>\n",
       "      <td>Miss. Laina Heikkinen</td>\n",
       "      <td>female</td>\n",
       "      <td>26.0</td>\n",
       "      <td>0</td>\n",
       "      <td>0</td>\n",
       "      <td>7.9250</td>\n",
       "    </tr>\n",
       "    <tr>\n",
       "      <th>3</th>\n",
       "      <td>1</td>\n",
       "      <td>1</td>\n",
       "      <td>Mrs. Jacques Heath (Lily May Peel) Futrelle</td>\n",
       "      <td>female</td>\n",
       "      <td>35.0</td>\n",
       "      <td>1</td>\n",
       "      <td>0</td>\n",
       "      <td>53.1000</td>\n",
       "    </tr>\n",
       "    <tr>\n",
       "      <th>4</th>\n",
       "      <td>0</td>\n",
       "      <td>3</td>\n",
       "      <td>Mr. William Henry Allen</td>\n",
       "      <td>male</td>\n",
       "      <td>35.0</td>\n",
       "      <td>0</td>\n",
       "      <td>0</td>\n",
       "      <td>8.0500</td>\n",
       "    </tr>\n",
       "  </tbody>\n",
       "</table>\n",
       "</div>"
      ],
      "text/plain": [
       "   survived  pclass                                               name  \\\n",
       "0         0       3                             Mr. Owen Harris Braund   \n",
       "1         1       1  Mrs. John Bradley (Florence Briggs Thayer) Cum...   \n",
       "2         1       3                              Miss. Laina Heikkinen   \n",
       "3         1       1        Mrs. Jacques Heath (Lily May Peel) Futrelle   \n",
       "4         0       3                            Mr. William Henry Allen   \n",
       "\n",
       "      sex   age  sib_sp_aboard  par_ch_aboard     fare  \n",
       "0    male  22.0              1              0   7.2500  \n",
       "1  female  38.0              1              0  71.2833  \n",
       "2  female  26.0              0              0   7.9250  \n",
       "3  female  35.0              1              0  53.1000  \n",
       "4    male  35.0              0              0   8.0500  "
      ]
     },
     "execution_count": 2,
     "metadata": {},
     "output_type": "execute_result"
    }
   ],
   "source": [
    "# Create database file if it doesn't exist\n",
    "with sqlite3.connect('titanic.sqlite3') as conn:\n",
    "    \n",
    "    # 1. Read csv file, change column names\n",
    "    df = pd.read_csv('titanic.csv', names = ('survived', 'pclass', 'name', 'sex', 'age', 'sib_sp_aboard', 'par_ch_aboard', 'fare'), header = 0)\n",
    "    \n",
    "    # 2. DROP TABLE review IF EXISTS\n",
    "    drop_query = 'DROP TABLE IF EXISTS review'\n",
    "    conn.cursor().execute(drop_query)\n",
    "    \n",
    "    # 3. INSERT TABLE review\n",
    "    df.to_sql('titanic', conn, index=False)\n",
    "    query = 'SELECT * FROM titanic'\n",
    "    df = pd.read_sql(query, conn)\n",
    "df.head()"
   ]
  },
  {
   "cell_type": "code",
   "execution_count": 3,
   "metadata": {},
   "outputs": [],
   "source": [
    "# create function to create SQL connection to database\n",
    "def create_connection(db_file, verbose=False):\n",
    "    conn = None\n",
    "    try:\n",
    "        conn = sqlite3.connect(db_file)\n",
    "        if verbose:\n",
    "            print(f'Using SQLite version: {sqlite3.version}')\n",
    "            print(f'Creating Connection to {db_file}...')\n",
    "        return conn\n",
    "    except sqlite3.Error as e:\n",
    "        print(e)"
   ]
  },
  {
   "cell_type": "code",
   "execution_count": 4,
   "metadata": {},
   "outputs": [],
   "source": [
    "# create function to query a database\n",
    "def select_all_query(db_file, query, verbose=False):\n",
    "\n",
    "    conn = create_connection(db_file, verbose)\n",
    "    cur = conn.cursor()\n",
    "    if not query.startswith('SELECT'):\n",
    "        raise ValueError('Query should begin with `SELECT`')\n",
    "    \n",
    "    cur.execute(query)\n",
    "    rows = cur.fetchall()\n",
    "\n",
    "    if verbose:\n",
    "        for row in rows:\n",
    "            print(row)\n",
    "\n",
    "    return rows"
   ]
  },
  {
   "cell_type": "code",
   "execution_count": 5,
   "metadata": {},
   "outputs": [
    {
     "name": "stdout",
     "output_type": "stream",
     "text": [
      "Total Survivors: 342\n"
     ]
    }
   ],
   "source": [
    "# How many total Characters are there?\n",
    "tot_surv = select_all_query('titanic.sqlite3', 'SELECT COUNT (*) FROM titanic WHERE survived IS 1')\n",
    "print('Total Survivors:', tot_surv[0][0])"
   ]
  },
  {
   "cell_type": "code",
   "execution_count": 6,
   "metadata": {},
   "outputs": [
    {
     "name": "stdout",
     "output_type": "stream",
     "text": [
      "Total Deaths: 545\n"
     ]
    }
   ],
   "source": [
    "# How many total Characters are there?\n",
    "tot_deaths = select_all_query('titanic.sqlite3', 'SELECT COUNT (*) FROM titanic WHERE survived IS 0')\n",
    "print('Total Deaths:', tot_deaths[0][0])"
   ]
  },
  {
   "cell_type": "code",
   "execution_count": 7,
   "metadata": {},
   "outputs": [
    {
     "name": "stdout",
     "output_type": "stream",
     "text": [
      "Total Survivors, PClass One: 80\n",
      "Total Deaths, PClass One: 136 \n",
      "\n",
      "Total Survivors, PClass Two: 97\n",
      "Total Deaths, PClass Two: 87 \n",
      "\n",
      "Total Survivors, PClass Three: 368\n",
      "Total Deaths, PClass Three: 119 \n",
      "\n"
     ]
    }
   ],
   "source": [
    "# How many passengers survived/died within each class?\n",
    "tot_surv_pclass1 = select_all_query('titanic.sqlite3', 'SELECT COUNT (*) FROM titanic \\\n",
    "                               WHERE survived IS 0 \\\n",
    "                               AND Pclass IS 1')\n",
    "\n",
    "tot_death_pclass1 = select_all_query('titanic.sqlite3', 'SELECT COUNT (*) FROM titanic \\\n",
    "                               WHERE survived IS 1 \\\n",
    "                               AND Pclass IS 1')\n",
    "\n",
    "tot_surv_pclass2 = select_all_query('titanic.sqlite3', 'SELECT COUNT (*) FROM titanic \\\n",
    "                               WHERE survived IS 0 \\\n",
    "                               AND Pclass IS 2')\n",
    "\n",
    "tot_death_pclass2 = select_all_query('titanic.sqlite3', 'SELECT COUNT (*) FROM titanic \\\n",
    "                               WHERE survived IS 1 \\\n",
    "                               AND Pclass IS 2')\n",
    "\n",
    "tot_surv_pclass3 = select_all_query('titanic.sqlite3', 'SELECT COUNT (*) FROM titanic \\\n",
    "                               WHERE survived IS 0 \\\n",
    "                               AND Pclass IS 3')\n",
    "\n",
    "tot_death_pclass3 = select_all_query('titanic.sqlite3', 'SELECT COUNT (*) FROM titanic \\\n",
    "                               WHERE survived IS 1 \\\n",
    "                               AND Pclass IS 3')\n",
    "\n",
    "print('Total Survivors, PClass One:', tot_surv_pclass1[0][0])\n",
    "print('Total Deaths, PClass One:', tot_death_pclass1[0][0], '\\n')\n",
    "print('Total Survivors, PClass Two:', tot_surv_pclass2[0][0])\n",
    "print('Total Deaths, PClass Two:', tot_death_pclass2[0][0], '\\n')\n",
    "print('Total Survivors, PClass Three:', tot_surv_pclass3[0][0])\n",
    "print('Total Deaths, PClass Three:', tot_death_pclass3[0][0], '\\n')"
   ]
  },
  {
   "cell_type": "code",
   "execution_count": 8,
   "metadata": {},
   "outputs": [
    {
     "data": {
      "text/html": [
       "<div>\n",
       "<style scoped>\n",
       "    .dataframe tbody tr th:only-of-type {\n",
       "        vertical-align: middle;\n",
       "    }\n",
       "\n",
       "    .dataframe tbody tr th {\n",
       "        vertical-align: top;\n",
       "    }\n",
       "\n",
       "    .dataframe thead th {\n",
       "        text-align: right;\n",
       "    }\n",
       "</style>\n",
       "<table border=\"1\" class=\"dataframe\">\n",
       "  <thead>\n",
       "    <tr style=\"text-align: right;\">\n",
       "      <th></th>\n",
       "      <th>survived</th>\n",
       "      <th>AVG(age)</th>\n",
       "    </tr>\n",
       "  </thead>\n",
       "  <tbody>\n",
       "    <tr>\n",
       "      <th>0</th>\n",
       "      <td>0</td>\n",
       "      <td>30.138532</td>\n",
       "    </tr>\n",
       "    <tr>\n",
       "      <th>1</th>\n",
       "      <td>1</td>\n",
       "      <td>28.408392</td>\n",
       "    </tr>\n",
       "  </tbody>\n",
       "</table>\n",
       "</div>"
      ],
      "text/plain": [
       "   survived   AVG(age)\n",
       "0         0  30.138532\n",
       "1         1  28.408392"
      ]
     },
     "execution_count": 8,
     "metadata": {},
     "output_type": "execute_result"
    }
   ],
   "source": [
    "# What was the average age of survivors vs nonsurvivors?\n",
    "\n",
    "# create query to find average age of survivors vs non-survivors\n",
    "query = '''SELECT survived, AVG(age)\n",
    "FROM titanic\n",
    "GROUP BY survived;'''\n",
    "\n",
    "# connect to db\n",
    "conn = create_connection('titanic.sqlite3')\n",
    "\n",
    "# create dataframe\n",
    "df = pd.read_sql(query, conn)\n",
    "df"
   ]
  },
  {
   "cell_type": "code",
   "execution_count": 9,
   "metadata": {},
   "outputs": [
    {
     "data": {
      "text/html": [
       "<div>\n",
       "<style scoped>\n",
       "    .dataframe tbody tr th:only-of-type {\n",
       "        vertical-align: middle;\n",
       "    }\n",
       "\n",
       "    .dataframe tbody tr th {\n",
       "        vertical-align: top;\n",
       "    }\n",
       "\n",
       "    .dataframe thead th {\n",
       "        text-align: right;\n",
       "    }\n",
       "</style>\n",
       "<table border=\"1\" class=\"dataframe\">\n",
       "  <thead>\n",
       "    <tr style=\"text-align: right;\">\n",
       "      <th></th>\n",
       "      <th>pclass</th>\n",
       "      <th>AVG(age)</th>\n",
       "    </tr>\n",
       "  </thead>\n",
       "  <tbody>\n",
       "    <tr>\n",
       "      <th>0</th>\n",
       "      <td>1</td>\n",
       "      <td>38.788981</td>\n",
       "    </tr>\n",
       "    <tr>\n",
       "      <th>1</th>\n",
       "      <td>2</td>\n",
       "      <td>29.868641</td>\n",
       "    </tr>\n",
       "    <tr>\n",
       "      <th>2</th>\n",
       "      <td>3</td>\n",
       "      <td>25.188747</td>\n",
       "    </tr>\n",
       "  </tbody>\n",
       "</table>\n",
       "</div>"
      ],
      "text/plain": [
       "   pclass   AVG(age)\n",
       "0       1  38.788981\n",
       "1       2  29.868641\n",
       "2       3  25.188747"
      ]
     },
     "execution_count": 9,
     "metadata": {},
     "output_type": "execute_result"
    }
   ],
   "source": [
    "# What was the average age of each passenger class?\n",
    "\n",
    "# create query to find average age by plcass\n",
    "query = '''SELECT pclass, AVG(age)\n",
    "FROM titanic\n",
    "GROUP BY pclass;'''\n",
    "\n",
    "# connect to db\n",
    "conn = create_connection('titanic.sqlite3')\n",
    "\n",
    "# create dataframe\n",
    "df = pd.read_sql(query, conn)\n",
    "df"
   ]
  },
  {
   "cell_type": "code",
   "execution_count": 10,
   "metadata": {},
   "outputs": [
    {
     "data": {
      "text/html": [
       "<div>\n",
       "<style scoped>\n",
       "    .dataframe tbody tr th:only-of-type {\n",
       "        vertical-align: middle;\n",
       "    }\n",
       "\n",
       "    .dataframe tbody tr th {\n",
       "        vertical-align: top;\n",
       "    }\n",
       "\n",
       "    .dataframe thead th {\n",
       "        text-align: right;\n",
       "    }\n",
       "</style>\n",
       "<table border=\"1\" class=\"dataframe\">\n",
       "  <thead>\n",
       "    <tr style=\"text-align: right;\">\n",
       "      <th></th>\n",
       "      <th>pclass</th>\n",
       "      <th>AVG(fare)</th>\n",
       "    </tr>\n",
       "  </thead>\n",
       "  <tbody>\n",
       "    <tr>\n",
       "      <th>0</th>\n",
       "      <td>1</td>\n",
       "      <td>84.154687</td>\n",
       "    </tr>\n",
       "    <tr>\n",
       "      <th>1</th>\n",
       "      <td>2</td>\n",
       "      <td>20.662183</td>\n",
       "    </tr>\n",
       "    <tr>\n",
       "      <th>2</th>\n",
       "      <td>3</td>\n",
       "      <td>13.707707</td>\n",
       "    </tr>\n",
       "  </tbody>\n",
       "</table>\n",
       "</div>"
      ],
      "text/plain": [
       "   pclass  AVG(fare)\n",
       "0       1  84.154687\n",
       "1       2  20.662183\n",
       "2       3  13.707707"
      ]
     },
     "execution_count": 10,
     "metadata": {},
     "output_type": "execute_result"
    }
   ],
   "source": [
    "# What was the average fare by passenger class?\n",
    "\n",
    "query = '''SELECT pclass, AVG(fare)\n",
    "FROM titanic\n",
    "GROUP BY pclass;'''\n",
    "\n",
    "# connect to db\n",
    "conn = create_connection('titanic.sqlite3')\n",
    "\n",
    "# create dataframe for average fare by Pclass\n",
    "df = pd.read_sql(query, conn)\n",
    "df"
   ]
  },
  {
   "cell_type": "code",
   "execution_count": 11,
   "metadata": {},
   "outputs": [
    {
     "data": {
      "text/html": [
       "<div>\n",
       "<style scoped>\n",
       "    .dataframe tbody tr th:only-of-type {\n",
       "        vertical-align: middle;\n",
       "    }\n",
       "\n",
       "    .dataframe tbody tr th {\n",
       "        vertical-align: top;\n",
       "    }\n",
       "\n",
       "    .dataframe thead th {\n",
       "        text-align: right;\n",
       "    }\n",
       "</style>\n",
       "<table border=\"1\" class=\"dataframe\">\n",
       "  <thead>\n",
       "    <tr style=\"text-align: right;\">\n",
       "      <th></th>\n",
       "      <th>survived</th>\n",
       "      <th>AVG(fare)</th>\n",
       "    </tr>\n",
       "  </thead>\n",
       "  <tbody>\n",
       "    <tr>\n",
       "      <th>0</th>\n",
       "      <td>0</td>\n",
       "      <td>22.208584</td>\n",
       "    </tr>\n",
       "    <tr>\n",
       "      <th>1</th>\n",
       "      <td>1</td>\n",
       "      <td>48.395408</td>\n",
       "    </tr>\n",
       "  </tbody>\n",
       "</table>\n",
       "</div>"
      ],
      "text/plain": [
       "   survived  AVG(fare)\n",
       "0         0  22.208584\n",
       "1         1  48.395408"
      ]
     },
     "execution_count": 11,
     "metadata": {},
     "output_type": "execute_result"
    }
   ],
   "source": [
    "# What was the average fare by survival?\n",
    "\n",
    "query = '''SELECT survived, AVG(fare)\n",
    "FROM titanic\n",
    "GROUP BY survived;'''\n",
    "\n",
    "# connect to db\n",
    "conn = create_connection('titanic.sqlite3')\n",
    "\n",
    "# create dataframe for average fare by survival\n",
    "df = pd.read_sql(query, conn)\n",
    "df"
   ]
  },
  {
   "cell_type": "code",
   "execution_count": 12,
   "metadata": {},
   "outputs": [
    {
     "data": {
      "text/html": [
       "<div>\n",
       "<style scoped>\n",
       "    .dataframe tbody tr th:only-of-type {\n",
       "        vertical-align: middle;\n",
       "    }\n",
       "\n",
       "    .dataframe tbody tr th {\n",
       "        vertical-align: top;\n",
       "    }\n",
       "\n",
       "    .dataframe thead th {\n",
       "        text-align: right;\n",
       "    }\n",
       "</style>\n",
       "<table border=\"1\" class=\"dataframe\">\n",
       "  <thead>\n",
       "    <tr style=\"text-align: right;\">\n",
       "      <th></th>\n",
       "      <th>pclass</th>\n",
       "      <th>AVG(sib_sp_aboard)</th>\n",
       "    </tr>\n",
       "  </thead>\n",
       "  <tbody>\n",
       "    <tr>\n",
       "      <th>0</th>\n",
       "      <td>1</td>\n",
       "      <td>0.416667</td>\n",
       "    </tr>\n",
       "    <tr>\n",
       "      <th>1</th>\n",
       "      <td>2</td>\n",
       "      <td>0.402174</td>\n",
       "    </tr>\n",
       "    <tr>\n",
       "      <th>2</th>\n",
       "      <td>3</td>\n",
       "      <td>0.620123</td>\n",
       "    </tr>\n",
       "  </tbody>\n",
       "</table>\n",
       "</div>"
      ],
      "text/plain": [
       "   pclass  AVG(sib_sp_aboard)\n",
       "0       1            0.416667\n",
       "1       2            0.402174\n",
       "2       3            0.620123"
      ]
     },
     "execution_count": 12,
     "metadata": {},
     "output_type": "execute_result"
    }
   ],
   "source": [
    "# How many siblings/spouses aboard on average, by passenger class?\n",
    "\n",
    "query = '''SELECT pclass, AVG(sib_sp_aboard)\n",
    "FROM titanic\n",
    "GROUP BY pclass;'''\n",
    "\n",
    "# connect to db\n",
    "conn = create_connection('titanic.sqlite3')\n",
    "\n",
    "# create dataframe for average #sib/sp by pclass\n",
    "df = pd.read_sql(query, conn)\n",
    "df\n"
   ]
  },
  {
   "cell_type": "code",
   "execution_count": 13,
   "metadata": {},
   "outputs": [
    {
     "data": {
      "text/html": [
       "<div>\n",
       "<style scoped>\n",
       "    .dataframe tbody tr th:only-of-type {\n",
       "        vertical-align: middle;\n",
       "    }\n",
       "\n",
       "    .dataframe tbody tr th {\n",
       "        vertical-align: top;\n",
       "    }\n",
       "\n",
       "    .dataframe thead th {\n",
       "        text-align: right;\n",
       "    }\n",
       "</style>\n",
       "<table border=\"1\" class=\"dataframe\">\n",
       "  <thead>\n",
       "    <tr style=\"text-align: right;\">\n",
       "      <th></th>\n",
       "      <th>survived</th>\n",
       "      <th>AVG(sib_sp_aboard)</th>\n",
       "    </tr>\n",
       "  </thead>\n",
       "  <tbody>\n",
       "    <tr>\n",
       "      <th>0</th>\n",
       "      <td>0</td>\n",
       "      <td>0.557798</td>\n",
       "    </tr>\n",
       "    <tr>\n",
       "      <th>1</th>\n",
       "      <td>1</td>\n",
       "      <td>0.473684</td>\n",
       "    </tr>\n",
       "  </tbody>\n",
       "</table>\n",
       "</div>"
      ],
      "text/plain": [
       "   survived  AVG(sib_sp_aboard)\n",
       "0         0            0.557798\n",
       "1         1            0.473684"
      ]
     },
     "execution_count": 13,
     "metadata": {},
     "output_type": "execute_result"
    }
   ],
   "source": [
    "# How many siblings/spouses aboard on average, by survival?\n",
    "\n",
    "query = '''SELECT survived, AVG(sib_sp_aboard)\n",
    "FROM titanic\n",
    "GROUP BY survived;'''\n",
    "\n",
    "# connect to db\n",
    "conn = create_connection('titanic.sqlite3')\n",
    "\n",
    "# create dataframe for average #of siblings/spouses by survival\n",
    "df = pd.read_sql(query, conn)\n",
    "df"
   ]
  },
  {
   "cell_type": "code",
   "execution_count": 14,
   "metadata": {},
   "outputs": [
    {
     "data": {
      "text/html": [
       "<div>\n",
       "<style scoped>\n",
       "    .dataframe tbody tr th:only-of-type {\n",
       "        vertical-align: middle;\n",
       "    }\n",
       "\n",
       "    .dataframe tbody tr th {\n",
       "        vertical-align: top;\n",
       "    }\n",
       "\n",
       "    .dataframe thead th {\n",
       "        text-align: right;\n",
       "    }\n",
       "</style>\n",
       "<table border=\"1\" class=\"dataframe\">\n",
       "  <thead>\n",
       "    <tr style=\"text-align: right;\">\n",
       "      <th></th>\n",
       "      <th>pclass</th>\n",
       "      <th>AVG(par_ch_aboard)</th>\n",
       "    </tr>\n",
       "  </thead>\n",
       "  <tbody>\n",
       "    <tr>\n",
       "      <th>0</th>\n",
       "      <td>1</td>\n",
       "      <td>0.356481</td>\n",
       "    </tr>\n",
       "    <tr>\n",
       "      <th>1</th>\n",
       "      <td>2</td>\n",
       "      <td>0.380435</td>\n",
       "    </tr>\n",
       "    <tr>\n",
       "      <th>2</th>\n",
       "      <td>3</td>\n",
       "      <td>0.396304</td>\n",
       "    </tr>\n",
       "  </tbody>\n",
       "</table>\n",
       "</div>"
      ],
      "text/plain": [
       "   pclass  AVG(par_ch_aboard)\n",
       "0       1            0.356481\n",
       "1       2            0.380435\n",
       "2       3            0.396304"
      ]
     },
     "execution_count": 14,
     "metadata": {},
     "output_type": "execute_result"
    }
   ],
   "source": [
    "# How many parents/children aboard on average, by passenger class?\n",
    "\n",
    "query = '''SELECT pclass, AVG(par_ch_aboard)\n",
    "FROM titanic\n",
    "GROUP BY pclass;'''\n",
    "\n",
    "# connect to db\n",
    "conn = create_connection('titanic.sqlite3')\n",
    "\n",
    "# create dataframe for average #par/ch aboard by pclass\n",
    "df = pd.read_sql(query, conn)\n",
    "df"
   ]
  },
  {
   "cell_type": "code",
   "execution_count": 15,
   "metadata": {},
   "outputs": [
    {
     "data": {
      "text/html": [
       "<div>\n",
       "<style scoped>\n",
       "    .dataframe tbody tr th:only-of-type {\n",
       "        vertical-align: middle;\n",
       "    }\n",
       "\n",
       "    .dataframe tbody tr th {\n",
       "        vertical-align: top;\n",
       "    }\n",
       "\n",
       "    .dataframe thead th {\n",
       "        text-align: right;\n",
       "    }\n",
       "</style>\n",
       "<table border=\"1\" class=\"dataframe\">\n",
       "  <thead>\n",
       "    <tr style=\"text-align: right;\">\n",
       "      <th></th>\n",
       "      <th>survived</th>\n",
       "      <th>AVG(par_ch_aboard)</th>\n",
       "    </tr>\n",
       "  </thead>\n",
       "  <tbody>\n",
       "    <tr>\n",
       "      <th>0</th>\n",
       "      <td>0</td>\n",
       "      <td>0.332110</td>\n",
       "    </tr>\n",
       "    <tr>\n",
       "      <th>1</th>\n",
       "      <td>1</td>\n",
       "      <td>0.464912</td>\n",
       "    </tr>\n",
       "  </tbody>\n",
       "</table>\n",
       "</div>"
      ],
      "text/plain": [
       "   survived  AVG(par_ch_aboard)\n",
       "0         0            0.332110\n",
       "1         1            0.464912"
      ]
     },
     "execution_count": 15,
     "metadata": {},
     "output_type": "execute_result"
    }
   ],
   "source": [
    "# How many parents/children aboard on average, by survival?\n",
    "\n",
    "query = '''SELECT survived, AVG(par_ch_aboard)\n",
    "FROM titanic\n",
    "GROUP BY survived;'''\n",
    "\n",
    "# connect to db\n",
    "conn = create_connection('titanic.sqlite3')\n",
    "\n",
    "# create dataframe for average #par/ch aboard by survival\n",
    "df = pd.read_sql(query, conn)\n",
    "df"
   ]
  },
  {
   "cell_type": "code",
   "execution_count": 16,
   "metadata": {},
   "outputs": [
    {
     "data": {
      "text/html": [
       "<div>\n",
       "<style scoped>\n",
       "    .dataframe tbody tr th:only-of-type {\n",
       "        vertical-align: middle;\n",
       "    }\n",
       "\n",
       "    .dataframe tbody tr th {\n",
       "        vertical-align: top;\n",
       "    }\n",
       "\n",
       "    .dataframe thead th {\n",
       "        text-align: right;\n",
       "    }\n",
       "</style>\n",
       "<table border=\"1\" class=\"dataframe\">\n",
       "  <thead>\n",
       "    <tr style=\"text-align: right;\">\n",
       "      <th></th>\n",
       "      <th>name</th>\n",
       "    </tr>\n",
       "  </thead>\n",
       "  <tbody>\n",
       "  </tbody>\n",
       "</table>\n",
       "</div>"
      ],
      "text/plain": [
       "Empty DataFrame\n",
       "Columns: [name]\n",
       "Index: []"
      ]
     },
     "execution_count": 16,
     "metadata": {},
     "output_type": "execute_result"
    }
   ],
   "source": [
    "# Do any passengers have the same name?\n",
    "query = '''SELECT name FROM titanic WHERE name NOT IN (SELECT DISTINCT name FROM titanic);\n",
    "'''\n",
    "# connect to db\n",
    "conn = create_connection('titanic.sqlite3')\n",
    "\n",
    "# select distinct names from dataframe\n",
    "df = pd.read_sql(query, conn)\n",
    "df"
   ]
  }
 ],
 "metadata": {
  "kernelspec": {
   "display_name": "Python 3",
   "language": "python",
   "name": "python3"
  },
  "language_info": {
   "codemirror_mode": {
    "name": "ipython",
    "version": 3
   },
   "file_extension": ".py",
   "mimetype": "text/x-python",
   "name": "python",
   "nbconvert_exporter": "python",
   "pygments_lexer": "ipython3",
   "version": "3.7.3"
  }
 },
 "nbformat": 4,
 "nbformat_minor": 2
}
